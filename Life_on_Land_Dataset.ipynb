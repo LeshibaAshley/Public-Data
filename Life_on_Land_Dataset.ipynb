{
  "cells": [
    {
      "cell_type": "markdown",
      "metadata": {
        "id": "view-in-github",
        "colab_type": "text"
      },
      "source": [
        "<a href=\"https://colab.research.google.com/github/LeshibaAshley/Public-Data/blob/master/Life_on_Land_Dataset.ipynb\" target=\"_parent\"><img src=\"https://colab.research.google.com/assets/colab-badge.svg\" alt=\"Open In Colab\"/></a>"
      ]
    },
    {
      "cell_type": "markdown",
      "metadata": {
        "id": "2yyqS-Si4lz1"
      },
      "source": [
        "# Life on Land Dataset"
      ]
    },
    {
      "cell_type": "markdown",
      "metadata": {
        "id": "mQvJuBJw4lz5"
      },
      "source": [
        "### Imports\n"
      ]
    },
    {
      "cell_type": "code",
      "execution_count": 7,
      "metadata": {
        "id": "5p71QtP04lz6"
      },
      "outputs": [],
      "source": [
        "import pandas as pd\n",
        "import numpy as np\n",
        "from sklearn.model_selection import train_test_split, GridSearchCV\n",
        "from sklearn.preprocessing import StandardScaler, LabelEncoder\n",
        "from sklearn.metrics import accuracy_score, precision_score, recall_score, f1_score, confusion_matrix, roc_auc_score\n",
        "from sklearn.ensemble import RandomForestClassifier\n",
        "from sklearn.linear_model import LogisticRegression\n",
        "from sklearn.naive_bayes import MultinomialNB\n",
        "from sklearn.neighbors import KNeighborsClassifier\n",
        "import seaborn as sns\n",
        "import matplotlib.pyplot as plt"
      ]
    },
    {
      "cell_type": "markdown",
      "metadata": {
        "id": "iMWgeO4z4lz8"
      },
      "source": [
        "### Import the dataset"
      ]
    },
    {
      "cell_type": "code",
      "execution_count": 20,
      "metadata": {
        "id": "mddsEqnV4lz8"
      },
      "outputs": [],
      "source": [
        "df = pd.read_csv('/content/.config/configurations/SDG_15_Life_on_Land_Dataset.csv')"
      ]
    },
    {
      "cell_type": "code",
      "execution_count": 25,
      "metadata": {
        "id": "59qeEZs-4lz8"
      },
      "outputs": [],
      "source": [
        "df.dropna(inplace=True)"
      ]
    },
    {
      "cell_type": "code",
      "source": [
        "# Load the data\n",
        "train_data = pd.read_csv ('/content/.config/configurations/SDG_15_Life_on_Land_Dataset.csv')\n",
        "test_data = pd.read_csv('/content/.config/configurations/SDG_15_Life_on_Land_Dataset.csv')\n",
        "\n",
        "# Display the first 5 rows of each dataset\n",
        "print(\"First 5 rows of train_data:\")\n",
        "print(train_data.head())\n",
        "\n",
        "print(\"\\nFirst 5 rows of test_data:\")\n",
        "print(test_data.head())"
      ],
      "metadata": {
        "colab": {
          "base_uri": "https://localhost:8080/"
        },
        "id": "EaoW34vx7ZlT",
        "outputId": "01861c59-2449-4083-ec79-51af5d6586f0"
      },
      "execution_count": 24,
      "outputs": [
        {
          "output_type": "stream",
          "name": "stdout",
          "text": [
            "First 5 rows of train_data:\n",
            "   Year  WaterQualityIndex  ClimateChangeImpactScore  LandUseChange  \\\n",
            "0  2010                 35                  7.542535       6.630073   \n",
            "1  2010                 13                  1.617642       6.477132   \n",
            "2  2010                 10                  0.904817       9.069428   \n",
            "3  2010                 36                  7.060190       7.061932   \n",
            "4  2010                 24                  8.439246       4.504786   \n",
            "\n",
            "   InvasiveSpeciesCount  ConservationFunding  EcoTourismImpact  \\\n",
            "0                    39                   46          1.193810   \n",
            "1                    45                   18          8.484718   \n",
            "2                    28                   59          3.412444   \n",
            "3                    37                   88          9.718453   \n",
            "4                    41                   88          9.118186   \n",
            "\n",
            "   ForestCoverChange  SoilQualityIndex  WaterUsage  RenewableEnergyUsage  \\\n",
            "0           0.032204                70          33                    13   \n",
            "1          -4.803485                69          67                    57   \n",
            "2          -2.563852                72          85                    37   \n",
            "3           3.425382                64          85                    96   \n",
            "4          -1.295086                12           0                    85   \n",
            "\n",
            "   CarbonEmissionLevels  AgriculturalIntensity  HabitatConnectivity  \\\n",
            "0                    22               1.419332             1.671324   \n",
            "1                    63               3.048794             5.815305   \n",
            "2                    46               7.863218             9.543694   \n",
            "3                    60               1.065595             4.938359   \n",
            "4                    61               9.785784             2.114002   \n",
            "\n",
            "   SpeciesReintroductionEfforts  PollinatorDiversity  BiodiversityHealthIndex  \n",
            "0                      9.311312             0.270434                 0.194332  \n",
            "1                      4.698086             0.729916                 0.525779  \n",
            "2                      2.080495             0.068508                 0.684795  \n",
            "3                      2.192657             0.145065                 0.926146  \n",
            "4                      7.405189             0.809798                 0.126345  \n",
            "\n",
            "First 5 rows of test_data:\n",
            "   Year  WaterQualityIndex  ClimateChangeImpactScore  LandUseChange  \\\n",
            "0  2010                 35                  7.542535       6.630073   \n",
            "1  2010                 13                  1.617642       6.477132   \n",
            "2  2010                 10                  0.904817       9.069428   \n",
            "3  2010                 36                  7.060190       7.061932   \n",
            "4  2010                 24                  8.439246       4.504786   \n",
            "\n",
            "   InvasiveSpeciesCount  ConservationFunding  EcoTourismImpact  \\\n",
            "0                    39                   46          1.193810   \n",
            "1                    45                   18          8.484718   \n",
            "2                    28                   59          3.412444   \n",
            "3                    37                   88          9.718453   \n",
            "4                    41                   88          9.118186   \n",
            "\n",
            "   ForestCoverChange  SoilQualityIndex  WaterUsage  RenewableEnergyUsage  \\\n",
            "0           0.032204                70          33                    13   \n",
            "1          -4.803485                69          67                    57   \n",
            "2          -2.563852                72          85                    37   \n",
            "3           3.425382                64          85                    96   \n",
            "4          -1.295086                12           0                    85   \n",
            "\n",
            "   CarbonEmissionLevels  AgriculturalIntensity  HabitatConnectivity  \\\n",
            "0                    22               1.419332             1.671324   \n",
            "1                    63               3.048794             5.815305   \n",
            "2                    46               7.863218             9.543694   \n",
            "3                    60               1.065595             4.938359   \n",
            "4                    61               9.785784             2.114002   \n",
            "\n",
            "   SpeciesReintroductionEfforts  PollinatorDiversity  BiodiversityHealthIndex  \n",
            "0                      9.311312             0.270434                 0.194332  \n",
            "1                      4.698086             0.729916                 0.525779  \n",
            "2                      2.080495             0.068508                 0.684795  \n",
            "3                      2.192657             0.145065                 0.926146  \n",
            "4                      7.405189             0.809798                 0.126345  \n"
          ]
        }
      ]
    },
    {
      "cell_type": "code",
      "execution_count": 22,
      "metadata": {
        "colab": {
          "base_uri": "https://localhost:8080/",
          "height": 226
        },
        "id": "LIQM-xXO4lz9",
        "outputId": "da6faa52-a705-4fc6-f511-7b300f6840d3"
      },
      "outputs": [
        {
          "output_type": "execute_result",
          "data": {
            "text/plain": [
              "   Year  WaterQualityIndex  ClimateChangeImpactScore  LandUseChange  \\\n",
              "0  2010                 35                  7.542535       6.630073   \n",
              "1  2010                 13                  1.617642       6.477132   \n",
              "2  2010                 10                  0.904817       9.069428   \n",
              "3  2010                 36                  7.060190       7.061932   \n",
              "4  2010                 24                  8.439246       4.504786   \n",
              "\n",
              "   InvasiveSpeciesCount  ConservationFunding  EcoTourismImpact  \\\n",
              "0                    39                   46          1.193810   \n",
              "1                    45                   18          8.484718   \n",
              "2                    28                   59          3.412444   \n",
              "3                    37                   88          9.718453   \n",
              "4                    41                   88          9.118186   \n",
              "\n",
              "   ForestCoverChange  SoilQualityIndex  WaterUsage  RenewableEnergyUsage  \\\n",
              "0           0.032204                70          33                    13   \n",
              "1          -4.803485                69          67                    57   \n",
              "2          -2.563852                72          85                    37   \n",
              "3           3.425382                64          85                    96   \n",
              "4          -1.295086                12           0                    85   \n",
              "\n",
              "   CarbonEmissionLevels  AgriculturalIntensity  HabitatConnectivity  \\\n",
              "0                    22               1.419332             1.671324   \n",
              "1                    63               3.048794             5.815305   \n",
              "2                    46               7.863218             9.543694   \n",
              "3                    60               1.065595             4.938359   \n",
              "4                    61               9.785784             2.114002   \n",
              "\n",
              "   SpeciesReintroductionEfforts  PollinatorDiversity  BiodiversityHealthIndex  \n",
              "0                      9.311312             0.270434                 0.194332  \n",
              "1                      4.698086             0.729916                 0.525779  \n",
              "2                      2.080495             0.068508                 0.684795  \n",
              "3                      2.192657             0.145065                 0.926146  \n",
              "4                      7.405189             0.809798                 0.126345  "
            ],
            "text/html": [
              "\n",
              "  <div id=\"df-82d47735-fbd6-4901-b5e2-d0aeb6bea2f3\" class=\"colab-df-container\">\n",
              "    <div>\n",
              "<style scoped>\n",
              "    .dataframe tbody tr th:only-of-type {\n",
              "        vertical-align: middle;\n",
              "    }\n",
              "\n",
              "    .dataframe tbody tr th {\n",
              "        vertical-align: top;\n",
              "    }\n",
              "\n",
              "    .dataframe thead th {\n",
              "        text-align: right;\n",
              "    }\n",
              "</style>\n",
              "<table border=\"1\" class=\"dataframe\">\n",
              "  <thead>\n",
              "    <tr style=\"text-align: right;\">\n",
              "      <th></th>\n",
              "      <th>Year</th>\n",
              "      <th>WaterQualityIndex</th>\n",
              "      <th>ClimateChangeImpactScore</th>\n",
              "      <th>LandUseChange</th>\n",
              "      <th>InvasiveSpeciesCount</th>\n",
              "      <th>ConservationFunding</th>\n",
              "      <th>EcoTourismImpact</th>\n",
              "      <th>ForestCoverChange</th>\n",
              "      <th>SoilQualityIndex</th>\n",
              "      <th>WaterUsage</th>\n",
              "      <th>RenewableEnergyUsage</th>\n",
              "      <th>CarbonEmissionLevels</th>\n",
              "      <th>AgriculturalIntensity</th>\n",
              "      <th>HabitatConnectivity</th>\n",
              "      <th>SpeciesReintroductionEfforts</th>\n",
              "      <th>PollinatorDiversity</th>\n",
              "      <th>BiodiversityHealthIndex</th>\n",
              "    </tr>\n",
              "  </thead>\n",
              "  <tbody>\n",
              "    <tr>\n",
              "      <th>0</th>\n",
              "      <td>2010</td>\n",
              "      <td>35</td>\n",
              "      <td>7.542535</td>\n",
              "      <td>6.630073</td>\n",
              "      <td>39</td>\n",
              "      <td>46</td>\n",
              "      <td>1.193810</td>\n",
              "      <td>0.032204</td>\n",
              "      <td>70</td>\n",
              "      <td>33</td>\n",
              "      <td>13</td>\n",
              "      <td>22</td>\n",
              "      <td>1.419332</td>\n",
              "      <td>1.671324</td>\n",
              "      <td>9.311312</td>\n",
              "      <td>0.270434</td>\n",
              "      <td>0.194332</td>\n",
              "    </tr>\n",
              "    <tr>\n",
              "      <th>1</th>\n",
              "      <td>2010</td>\n",
              "      <td>13</td>\n",
              "      <td>1.617642</td>\n",
              "      <td>6.477132</td>\n",
              "      <td>45</td>\n",
              "      <td>18</td>\n",
              "      <td>8.484718</td>\n",
              "      <td>-4.803485</td>\n",
              "      <td>69</td>\n",
              "      <td>67</td>\n",
              "      <td>57</td>\n",
              "      <td>63</td>\n",
              "      <td>3.048794</td>\n",
              "      <td>5.815305</td>\n",
              "      <td>4.698086</td>\n",
              "      <td>0.729916</td>\n",
              "      <td>0.525779</td>\n",
              "    </tr>\n",
              "    <tr>\n",
              "      <th>2</th>\n",
              "      <td>2010</td>\n",
              "      <td>10</td>\n",
              "      <td>0.904817</td>\n",
              "      <td>9.069428</td>\n",
              "      <td>28</td>\n",
              "      <td>59</td>\n",
              "      <td>3.412444</td>\n",
              "      <td>-2.563852</td>\n",
              "      <td>72</td>\n",
              "      <td>85</td>\n",
              "      <td>37</td>\n",
              "      <td>46</td>\n",
              "      <td>7.863218</td>\n",
              "      <td>9.543694</td>\n",
              "      <td>2.080495</td>\n",
              "      <td>0.068508</td>\n",
              "      <td>0.684795</td>\n",
              "    </tr>\n",
              "    <tr>\n",
              "      <th>3</th>\n",
              "      <td>2010</td>\n",
              "      <td>36</td>\n",
              "      <td>7.060190</td>\n",
              "      <td>7.061932</td>\n",
              "      <td>37</td>\n",
              "      <td>88</td>\n",
              "      <td>9.718453</td>\n",
              "      <td>3.425382</td>\n",
              "      <td>64</td>\n",
              "      <td>85</td>\n",
              "      <td>96</td>\n",
              "      <td>60</td>\n",
              "      <td>1.065595</td>\n",
              "      <td>4.938359</td>\n",
              "      <td>2.192657</td>\n",
              "      <td>0.145065</td>\n",
              "      <td>0.926146</td>\n",
              "    </tr>\n",
              "    <tr>\n",
              "      <th>4</th>\n",
              "      <td>2010</td>\n",
              "      <td>24</td>\n",
              "      <td>8.439246</td>\n",
              "      <td>4.504786</td>\n",
              "      <td>41</td>\n",
              "      <td>88</td>\n",
              "      <td>9.118186</td>\n",
              "      <td>-1.295086</td>\n",
              "      <td>12</td>\n",
              "      <td>0</td>\n",
              "      <td>85</td>\n",
              "      <td>61</td>\n",
              "      <td>9.785784</td>\n",
              "      <td>2.114002</td>\n",
              "      <td>7.405189</td>\n",
              "      <td>0.809798</td>\n",
              "      <td>0.126345</td>\n",
              "    </tr>\n",
              "  </tbody>\n",
              "</table>\n",
              "</div>\n",
              "    <div class=\"colab-df-buttons\">\n",
              "\n",
              "  <div class=\"colab-df-container\">\n",
              "    <button class=\"colab-df-convert\" onclick=\"convertToInteractive('df-82d47735-fbd6-4901-b5e2-d0aeb6bea2f3')\"\n",
              "            title=\"Convert this dataframe to an interactive table.\"\n",
              "            style=\"display:none;\">\n",
              "\n",
              "  <svg xmlns=\"http://www.w3.org/2000/svg\" height=\"24px\" viewBox=\"0 -960 960 960\">\n",
              "    <path d=\"M120-120v-720h720v720H120Zm60-500h600v-160H180v160Zm220 220h160v-160H400v160Zm0 220h160v-160H400v160ZM180-400h160v-160H180v160Zm440 0h160v-160H620v160ZM180-180h160v-160H180v160Zm440 0h160v-160H620v160Z\"/>\n",
              "  </svg>\n",
              "    </button>\n",
              "\n",
              "  <style>\n",
              "    .colab-df-container {\n",
              "      display:flex;\n",
              "      gap: 12px;\n",
              "    }\n",
              "\n",
              "    .colab-df-convert {\n",
              "      background-color: #E8F0FE;\n",
              "      border: none;\n",
              "      border-radius: 50%;\n",
              "      cursor: pointer;\n",
              "      display: none;\n",
              "      fill: #1967D2;\n",
              "      height: 32px;\n",
              "      padding: 0 0 0 0;\n",
              "      width: 32px;\n",
              "    }\n",
              "\n",
              "    .colab-df-convert:hover {\n",
              "      background-color: #E2EBFA;\n",
              "      box-shadow: 0px 1px 2px rgba(60, 64, 67, 0.3), 0px 1px 3px 1px rgba(60, 64, 67, 0.15);\n",
              "      fill: #174EA6;\n",
              "    }\n",
              "\n",
              "    .colab-df-buttons div {\n",
              "      margin-bottom: 4px;\n",
              "    }\n",
              "\n",
              "    [theme=dark] .colab-df-convert {\n",
              "      background-color: #3B4455;\n",
              "      fill: #D2E3FC;\n",
              "    }\n",
              "\n",
              "    [theme=dark] .colab-df-convert:hover {\n",
              "      background-color: #434B5C;\n",
              "      box-shadow: 0px 1px 3px 1px rgba(0, 0, 0, 0.15);\n",
              "      filter: drop-shadow(0px 1px 2px rgba(0, 0, 0, 0.3));\n",
              "      fill: #FFFFFF;\n",
              "    }\n",
              "  </style>\n",
              "\n",
              "    <script>\n",
              "      const buttonEl =\n",
              "        document.querySelector('#df-82d47735-fbd6-4901-b5e2-d0aeb6bea2f3 button.colab-df-convert');\n",
              "      buttonEl.style.display =\n",
              "        google.colab.kernel.accessAllowed ? 'block' : 'none';\n",
              "\n",
              "      async function convertToInteractive(key) {\n",
              "        const element = document.querySelector('#df-82d47735-fbd6-4901-b5e2-d0aeb6bea2f3');\n",
              "        const dataTable =\n",
              "          await google.colab.kernel.invokeFunction('convertToInteractive',\n",
              "                                                    [key], {});\n",
              "        if (!dataTable) return;\n",
              "\n",
              "        const docLinkHtml = 'Like what you see? Visit the ' +\n",
              "          '<a target=\"_blank\" href=https://colab.research.google.com/notebooks/data_table.ipynb>data table notebook</a>'\n",
              "          + ' to learn more about interactive tables.';\n",
              "        element.innerHTML = '';\n",
              "        dataTable['output_type'] = 'display_data';\n",
              "        await google.colab.output.renderOutput(dataTable, element);\n",
              "        const docLink = document.createElement('div');\n",
              "        docLink.innerHTML = docLinkHtml;\n",
              "        element.appendChild(docLink);\n",
              "      }\n",
              "    </script>\n",
              "  </div>\n",
              "\n",
              "\n",
              "<div id=\"df-5ee6fa14-2b86-45a6-9c90-567e556bdb34\">\n",
              "  <button class=\"colab-df-quickchart\" onclick=\"quickchart('df-5ee6fa14-2b86-45a6-9c90-567e556bdb34')\"\n",
              "            title=\"Suggest charts\"\n",
              "            style=\"display:none;\">\n",
              "\n",
              "<svg xmlns=\"http://www.w3.org/2000/svg\" height=\"24px\"viewBox=\"0 0 24 24\"\n",
              "     width=\"24px\">\n",
              "    <g>\n",
              "        <path d=\"M19 3H5c-1.1 0-2 .9-2 2v14c0 1.1.9 2 2 2h14c1.1 0 2-.9 2-2V5c0-1.1-.9-2-2-2zM9 17H7v-7h2v7zm4 0h-2V7h2v10zm4 0h-2v-4h2v4z\"/>\n",
              "    </g>\n",
              "</svg>\n",
              "  </button>\n",
              "\n",
              "<style>\n",
              "  .colab-df-quickchart {\n",
              "      --bg-color: #E8F0FE;\n",
              "      --fill-color: #1967D2;\n",
              "      --hover-bg-color: #E2EBFA;\n",
              "      --hover-fill-color: #174EA6;\n",
              "      --disabled-fill-color: #AAA;\n",
              "      --disabled-bg-color: #DDD;\n",
              "  }\n",
              "\n",
              "  [theme=dark] .colab-df-quickchart {\n",
              "      --bg-color: #3B4455;\n",
              "      --fill-color: #D2E3FC;\n",
              "      --hover-bg-color: #434B5C;\n",
              "      --hover-fill-color: #FFFFFF;\n",
              "      --disabled-bg-color: #3B4455;\n",
              "      --disabled-fill-color: #666;\n",
              "  }\n",
              "\n",
              "  .colab-df-quickchart {\n",
              "    background-color: var(--bg-color);\n",
              "    border: none;\n",
              "    border-radius: 50%;\n",
              "    cursor: pointer;\n",
              "    display: none;\n",
              "    fill: var(--fill-color);\n",
              "    height: 32px;\n",
              "    padding: 0;\n",
              "    width: 32px;\n",
              "  }\n",
              "\n",
              "  .colab-df-quickchart:hover {\n",
              "    background-color: var(--hover-bg-color);\n",
              "    box-shadow: 0 1px 2px rgba(60, 64, 67, 0.3), 0 1px 3px 1px rgba(60, 64, 67, 0.15);\n",
              "    fill: var(--button-hover-fill-color);\n",
              "  }\n",
              "\n",
              "  .colab-df-quickchart-complete:disabled,\n",
              "  .colab-df-quickchart-complete:disabled:hover {\n",
              "    background-color: var(--disabled-bg-color);\n",
              "    fill: var(--disabled-fill-color);\n",
              "    box-shadow: none;\n",
              "  }\n",
              "\n",
              "  .colab-df-spinner {\n",
              "    border: 2px solid var(--fill-color);\n",
              "    border-color: transparent;\n",
              "    border-bottom-color: var(--fill-color);\n",
              "    animation:\n",
              "      spin 1s steps(1) infinite;\n",
              "  }\n",
              "\n",
              "  @keyframes spin {\n",
              "    0% {\n",
              "      border-color: transparent;\n",
              "      border-bottom-color: var(--fill-color);\n",
              "      border-left-color: var(--fill-color);\n",
              "    }\n",
              "    20% {\n",
              "      border-color: transparent;\n",
              "      border-left-color: var(--fill-color);\n",
              "      border-top-color: var(--fill-color);\n",
              "    }\n",
              "    30% {\n",
              "      border-color: transparent;\n",
              "      border-left-color: var(--fill-color);\n",
              "      border-top-color: var(--fill-color);\n",
              "      border-right-color: var(--fill-color);\n",
              "    }\n",
              "    40% {\n",
              "      border-color: transparent;\n",
              "      border-right-color: var(--fill-color);\n",
              "      border-top-color: var(--fill-color);\n",
              "    }\n",
              "    60% {\n",
              "      border-color: transparent;\n",
              "      border-right-color: var(--fill-color);\n",
              "    }\n",
              "    80% {\n",
              "      border-color: transparent;\n",
              "      border-right-color: var(--fill-color);\n",
              "      border-bottom-color: var(--fill-color);\n",
              "    }\n",
              "    90% {\n",
              "      border-color: transparent;\n",
              "      border-bottom-color: var(--fill-color);\n",
              "    }\n",
              "  }\n",
              "</style>\n",
              "\n",
              "  <script>\n",
              "    async function quickchart(key) {\n",
              "      const quickchartButtonEl =\n",
              "        document.querySelector('#' + key + ' button');\n",
              "      quickchartButtonEl.disabled = true;  // To prevent multiple clicks.\n",
              "      quickchartButtonEl.classList.add('colab-df-spinner');\n",
              "      try {\n",
              "        const charts = await google.colab.kernel.invokeFunction(\n",
              "            'suggestCharts', [key], {});\n",
              "      } catch (error) {\n",
              "        console.error('Error during call to suggestCharts:', error);\n",
              "      }\n",
              "      quickchartButtonEl.classList.remove('colab-df-spinner');\n",
              "      quickchartButtonEl.classList.add('colab-df-quickchart-complete');\n",
              "    }\n",
              "    (() => {\n",
              "      let quickchartButtonEl =\n",
              "        document.querySelector('#df-5ee6fa14-2b86-45a6-9c90-567e556bdb34 button');\n",
              "      quickchartButtonEl.style.display =\n",
              "        google.colab.kernel.accessAllowed ? 'block' : 'none';\n",
              "    })();\n",
              "  </script>\n",
              "</div>\n",
              "\n",
              "    </div>\n",
              "  </div>\n"
            ],
            "application/vnd.google.colaboratory.intrinsic+json": {
              "type": "dataframe",
              "variable_name": "df",
              "summary": "{\n  \"name\": \"df\",\n  \"rows\": 1000,\n  \"fields\": [\n    {\n      \"column\": \"Year\",\n      \"properties\": {\n        \"dtype\": \"number\",\n        \"std\": 3,\n        \"min\": 2010,\n        \"max\": 2020,\n        \"num_unique_values\": 11,\n        \"samples\": [\n          2015,\n          2010,\n          2019\n        ],\n        \"semantic_type\": \"\",\n        \"description\": \"\"\n      }\n    },\n    {\n      \"column\": \"WaterQualityIndex\",\n      \"properties\": {\n        \"dtype\": \"number\",\n        \"std\": 29,\n        \"min\": 0,\n        \"max\": 100,\n        \"num_unique_values\": 101,\n        \"samples\": [\n          21,\n          90,\n          5\n        ],\n        \"semantic_type\": \"\",\n        \"description\": \"\"\n      }\n    },\n    {\n      \"column\": \"ClimateChangeImpactScore\",\n      \"properties\": {\n        \"dtype\": \"number\",\n        \"std\": 2.855896095217585,\n        \"min\": 0.0018839955658189,\n        \"max\": 9.970781570816618,\n        \"num_unique_values\": 1000,\n        \"samples\": [\n          7.468757161358227,\n          0.4650058644006549,\n          8.01366915819519\n        ],\n        \"semantic_type\": \"\",\n        \"description\": \"\"\n      }\n    },\n    {\n      \"column\": \"LandUseChange\",\n      \"properties\": {\n        \"dtype\": \"number\",\n        \"std\": 2.8476538858686737,\n        \"min\": 0.0044278143720788,\n        \"max\": 9.99713804155914,\n        \"num_unique_values\": 1000,\n        \"samples\": [\n          3.1189908000428046,\n          0.1979565834725438,\n          0.982349921890805\n        ],\n        \"semantic_type\": \"\",\n        \"description\": \"\"\n      }\n    },\n    {\n      \"column\": \"InvasiveSpeciesCount\",\n      \"properties\": {\n        \"dtype\": \"number\",\n        \"std\": 14,\n        \"min\": 0,\n        \"max\": 50,\n        \"num_unique_values\": 51,\n        \"samples\": [\n          25,\n          32,\n          9\n        ],\n        \"semantic_type\": \"\",\n        \"description\": \"\"\n      }\n    },\n    {\n      \"column\": \"ConservationFunding\",\n      \"properties\": {\n        \"dtype\": \"number\",\n        \"std\": 28,\n        \"min\": 0,\n        \"max\": 100,\n        \"num_unique_values\": 101,\n        \"samples\": [\n          15,\n          58,\n          12\n        ],\n        \"semantic_type\": \"\",\n        \"description\": \"\"\n      }\n    },\n    {\n      \"column\": \"EcoTourismImpact\",\n      \"properties\": {\n        \"dtype\": \"number\",\n        \"std\": 2.8903589145740214,\n        \"min\": 0.0022703821825553,\n        \"max\": 9.987929358156546,\n        \"num_unique_values\": 1000,\n        \"samples\": [\n          9.53402879382095,\n          1.8430139695009904,\n          4.10731543491012\n        ],\n        \"semantic_type\": \"\",\n        \"description\": \"\"\n      }\n    },\n    {\n      \"column\": \"ForestCoverChange\",\n      \"properties\": {\n        \"dtype\": \"number\",\n        \"std\": 2.9011230676136384,\n        \"min\": -4.960816250489067,\n        \"max\": 4.994606810596732,\n        \"num_unique_values\": 1000,\n        \"samples\": [\n          1.6285978763466566,\n          -1.1056531992232674,\n          -3.2550151360204485\n        ],\n        \"semantic_type\": \"\",\n        \"description\": \"\"\n      }\n    },\n    {\n      \"column\": \"SoilQualityIndex\",\n      \"properties\": {\n        \"dtype\": \"number\",\n        \"std\": 28,\n        \"min\": 0,\n        \"max\": 100,\n        \"num_unique_values\": 101,\n        \"samples\": [\n          4,\n          83,\n          81\n        ],\n        \"semantic_type\": \"\",\n        \"description\": \"\"\n      }\n    },\n    {\n      \"column\": \"WaterUsage\",\n      \"properties\": {\n        \"dtype\": \"number\",\n        \"std\": 28,\n        \"min\": 0,\n        \"max\": 100,\n        \"num_unique_values\": 101,\n        \"samples\": [\n          78,\n          37,\n          48\n        ],\n        \"semantic_type\": \"\",\n        \"description\": \"\"\n      }\n    },\n    {\n      \"column\": \"RenewableEnergyUsage\",\n      \"properties\": {\n        \"dtype\": \"number\",\n        \"std\": 29,\n        \"min\": 0,\n        \"max\": 100,\n        \"num_unique_values\": 101,\n        \"samples\": [\n          44,\n          17,\n          1\n        ],\n        \"semantic_type\": \"\",\n        \"description\": \"\"\n      }\n    },\n    {\n      \"column\": \"CarbonEmissionLevels\",\n      \"properties\": {\n        \"dtype\": \"number\",\n        \"std\": 29,\n        \"min\": 0,\n        \"max\": 100,\n        \"num_unique_values\": 101,\n        \"samples\": [\n          89,\n          19,\n          98\n        ],\n        \"semantic_type\": \"\",\n        \"description\": \"\"\n      }\n    },\n    {\n      \"column\": \"AgriculturalIntensity\",\n      \"properties\": {\n        \"dtype\": \"number\",\n        \"std\": 2.873200228529694,\n        \"min\": 0.001851952954428,\n        \"max\": 9.994963504187217,\n        \"num_unique_values\": 1000,\n        \"samples\": [\n          4.935308302326209,\n          2.564875232071543,\n          9.310192758797044\n        ],\n        \"semantic_type\": \"\",\n        \"description\": \"\"\n      }\n    },\n    {\n      \"column\": \"HabitatConnectivity\",\n      \"properties\": {\n        \"dtype\": \"number\",\n        \"std\": 2.884833611507478,\n        \"min\": 0.0102229959444799,\n        \"max\": 9.996356254254438,\n        \"num_unique_values\": 1000,\n        \"samples\": [\n          0.4654152121906807,\n          1.6599446067512524,\n          5.154974759769905\n        ],\n        \"semantic_type\": \"\",\n        \"description\": \"\"\n      }\n    },\n    {\n      \"column\": \"SpeciesReintroductionEfforts\",\n      \"properties\": {\n        \"dtype\": \"number\",\n        \"std\": 2.8800063930687734,\n        \"min\": 0.0108701980493253,\n        \"max\": 9.990907677973109,\n        \"num_unique_values\": 1000,\n        \"samples\": [\n          9.450057830086813,\n          1.6038413384367134,\n          8.868206673435218\n        ],\n        \"semantic_type\": \"\",\n        \"description\": \"\"\n      }\n    },\n    {\n      \"column\": \"PollinatorDiversity\",\n      \"properties\": {\n        \"dtype\": \"number\",\n        \"std\": 0.2857729204015278,\n        \"min\": 0.00011864491085,\n        \"max\": 0.9990094616688678,\n        \"num_unique_values\": 1000,\n        \"samples\": [\n          0.3279495683214861,\n          0.8961977982793955,\n          0.0194351551823019\n        ],\n        \"semantic_type\": \"\",\n        \"description\": \"\"\n      }\n    },\n    {\n      \"column\": \"BiodiversityHealthIndex\",\n      \"properties\": {\n        \"dtype\": \"number\",\n        \"std\": 0.28726442398778296,\n        \"min\": 0.0002406697429022,\n        \"max\": 0.9998167193626778,\n        \"num_unique_values\": 1000,\n        \"samples\": [\n          0.1771938124840381,\n          0.3019819130857337,\n          0.1307203189500964\n        ],\n        \"semantic_type\": \"\",\n        \"description\": \"\"\n      }\n    }\n  ]\n}"
            }
          },
          "metadata": {},
          "execution_count": 22
        }
      ],
      "source": [
        "df.head()"
      ]
    },
    {
      "cell_type": "code",
      "execution_count": 23,
      "metadata": {
        "colab": {
          "base_uri": "https://localhost:8080/"
        },
        "id": "7yD6lQHC4lz_",
        "outputId": "9ed82617-7988-470e-9ea9-90c1bee7e856"
      },
      "outputs": [
        {
          "output_type": "stream",
          "name": "stdout",
          "text": [
            "<class 'pandas.core.frame.DataFrame'>\n",
            "RangeIndex: 1000 entries, 0 to 999\n",
            "Data columns (total 17 columns):\n",
            " #   Column                        Non-Null Count  Dtype  \n",
            "---  ------                        --------------  -----  \n",
            " 0   Year                          1000 non-null   int64  \n",
            " 1   WaterQualityIndex             1000 non-null   int64  \n",
            " 2   ClimateChangeImpactScore      1000 non-null   float64\n",
            " 3   LandUseChange                 1000 non-null   float64\n",
            " 4   InvasiveSpeciesCount          1000 non-null   int64  \n",
            " 5   ConservationFunding           1000 non-null   int64  \n",
            " 6   EcoTourismImpact              1000 non-null   float64\n",
            " 7   ForestCoverChange             1000 non-null   float64\n",
            " 8   SoilQualityIndex              1000 non-null   int64  \n",
            " 9   WaterUsage                    1000 non-null   int64  \n",
            " 10  RenewableEnergyUsage          1000 non-null   int64  \n",
            " 11  CarbonEmissionLevels          1000 non-null   int64  \n",
            " 12  AgriculturalIntensity         1000 non-null   float64\n",
            " 13  HabitatConnectivity           1000 non-null   float64\n",
            " 14  SpeciesReintroductionEfforts  1000 non-null   float64\n",
            " 15  PollinatorDiversity           1000 non-null   float64\n",
            " 16  BiodiversityHealthIndex       1000 non-null   float64\n",
            "dtypes: float64(9), int64(8)\n",
            "memory usage: 132.9 KB\n"
          ]
        }
      ],
      "source": [
        "df.info()\n"
      ]
    },
    {
      "cell_type": "markdown",
      "metadata": {
        "id": "-zu8Svi14lz_"
      },
      "source": [
        "# Data Cleaning"
      ]
    },
    {
      "cell_type": "code",
      "execution_count": 13,
      "metadata": {
        "colab": {
          "base_uri": "https://localhost:8080/",
          "height": 617
        },
        "id": "D7nOxVqC4l0A",
        "outputId": "928f3167-22ce-4187-e41d-c7d47d12b858"
      },
      "outputs": [
        {
          "output_type": "execute_result",
          "data": {
            "text/plain": [
              "Year                            0\n",
              "WaterQualityIndex               0\n",
              "ClimateChangeImpactScore        0\n",
              "LandUseChange                   0\n",
              "InvasiveSpeciesCount            0\n",
              "ConservationFunding             0\n",
              "EcoTourismImpact                0\n",
              "ForestCoverChange               0\n",
              "SoilQualityIndex                0\n",
              "WaterUsage                      0\n",
              "RenewableEnergyUsage            0\n",
              "CarbonEmissionLevels            0\n",
              "AgriculturalIntensity           0\n",
              "HabitatConnectivity             0\n",
              "SpeciesReintroductionEfforts    0\n",
              "PollinatorDiversity             0\n",
              "BiodiversityHealthIndex         0\n",
              "dtype: int64"
            ],
            "text/html": [
              "<div>\n",
              "<style scoped>\n",
              "    .dataframe tbody tr th:only-of-type {\n",
              "        vertical-align: middle;\n",
              "    }\n",
              "\n",
              "    .dataframe tbody tr th {\n",
              "        vertical-align: top;\n",
              "    }\n",
              "\n",
              "    .dataframe thead th {\n",
              "        text-align: right;\n",
              "    }\n",
              "</style>\n",
              "<table border=\"1\" class=\"dataframe\">\n",
              "  <thead>\n",
              "    <tr style=\"text-align: right;\">\n",
              "      <th></th>\n",
              "      <th>0</th>\n",
              "    </tr>\n",
              "  </thead>\n",
              "  <tbody>\n",
              "    <tr>\n",
              "      <th>Year</th>\n",
              "      <td>0</td>\n",
              "    </tr>\n",
              "    <tr>\n",
              "      <th>WaterQualityIndex</th>\n",
              "      <td>0</td>\n",
              "    </tr>\n",
              "    <tr>\n",
              "      <th>ClimateChangeImpactScore</th>\n",
              "      <td>0</td>\n",
              "    </tr>\n",
              "    <tr>\n",
              "      <th>LandUseChange</th>\n",
              "      <td>0</td>\n",
              "    </tr>\n",
              "    <tr>\n",
              "      <th>InvasiveSpeciesCount</th>\n",
              "      <td>0</td>\n",
              "    </tr>\n",
              "    <tr>\n",
              "      <th>ConservationFunding</th>\n",
              "      <td>0</td>\n",
              "    </tr>\n",
              "    <tr>\n",
              "      <th>EcoTourismImpact</th>\n",
              "      <td>0</td>\n",
              "    </tr>\n",
              "    <tr>\n",
              "      <th>ForestCoverChange</th>\n",
              "      <td>0</td>\n",
              "    </tr>\n",
              "    <tr>\n",
              "      <th>SoilQualityIndex</th>\n",
              "      <td>0</td>\n",
              "    </tr>\n",
              "    <tr>\n",
              "      <th>WaterUsage</th>\n",
              "      <td>0</td>\n",
              "    </tr>\n",
              "    <tr>\n",
              "      <th>RenewableEnergyUsage</th>\n",
              "      <td>0</td>\n",
              "    </tr>\n",
              "    <tr>\n",
              "      <th>CarbonEmissionLevels</th>\n",
              "      <td>0</td>\n",
              "    </tr>\n",
              "    <tr>\n",
              "      <th>AgriculturalIntensity</th>\n",
              "      <td>0</td>\n",
              "    </tr>\n",
              "    <tr>\n",
              "      <th>HabitatConnectivity</th>\n",
              "      <td>0</td>\n",
              "    </tr>\n",
              "    <tr>\n",
              "      <th>SpeciesReintroductionEfforts</th>\n",
              "      <td>0</td>\n",
              "    </tr>\n",
              "    <tr>\n",
              "      <th>PollinatorDiversity</th>\n",
              "      <td>0</td>\n",
              "    </tr>\n",
              "    <tr>\n",
              "      <th>BiodiversityHealthIndex</th>\n",
              "      <td>0</td>\n",
              "    </tr>\n",
              "  </tbody>\n",
              "</table>\n",
              "</div><br><label><b>dtype:</b> int64</label>"
            ]
          },
          "metadata": {},
          "execution_count": 13
        }
      ],
      "source": [
        "df.isna().sum()"
      ]
    },
    {
      "cell_type": "code",
      "source": [
        "# Get the shape of the train_data DataFrame\n",
        "print('The shape of the train_data:', train_data.shape)\n",
        "\n",
        "# Get the shape of the test_data DataFrame\n",
        "print('The shape of the test_data:', test_data.shape)"
      ],
      "metadata": {
        "colab": {
          "base_uri": "https://localhost:8080/"
        },
        "id": "K_FxEIqi8Cp9",
        "outputId": "224bc066-ee69-4969-b186-301fcca17b66"
      },
      "execution_count": 26,
      "outputs": [
        {
          "output_type": "stream",
          "name": "stdout",
          "text": [
            "The shape of the train_data: (1000, 17)\n",
            "The shape of the test_data: (1000, 17)\n"
          ]
        }
      ]
    },
    {
      "cell_type": "code",
      "source": [
        "# Display summary information about the train_data and test_data\n",
        "print(train_data.info(), test_data.info())"
      ],
      "metadata": {
        "colab": {
          "base_uri": "https://localhost:8080/"
        },
        "id": "oKgYXjT_8HnQ",
        "outputId": "87c8ffa7-7cfe-48b2-f38f-6f9d8d593bd4"
      },
      "execution_count": 27,
      "outputs": [
        {
          "output_type": "stream",
          "name": "stdout",
          "text": [
            "<class 'pandas.core.frame.DataFrame'>\n",
            "RangeIndex: 1000 entries, 0 to 999\n",
            "Data columns (total 17 columns):\n",
            " #   Column                        Non-Null Count  Dtype  \n",
            "---  ------                        --------------  -----  \n",
            " 0   Year                          1000 non-null   int64  \n",
            " 1   WaterQualityIndex             1000 non-null   int64  \n",
            " 2   ClimateChangeImpactScore      1000 non-null   float64\n",
            " 3   LandUseChange                 1000 non-null   float64\n",
            " 4   InvasiveSpeciesCount          1000 non-null   int64  \n",
            " 5   ConservationFunding           1000 non-null   int64  \n",
            " 6   EcoTourismImpact              1000 non-null   float64\n",
            " 7   ForestCoverChange             1000 non-null   float64\n",
            " 8   SoilQualityIndex              1000 non-null   int64  \n",
            " 9   WaterUsage                    1000 non-null   int64  \n",
            " 10  RenewableEnergyUsage          1000 non-null   int64  \n",
            " 11  CarbonEmissionLevels          1000 non-null   int64  \n",
            " 12  AgriculturalIntensity         1000 non-null   float64\n",
            " 13  HabitatConnectivity           1000 non-null   float64\n",
            " 14  SpeciesReintroductionEfforts  1000 non-null   float64\n",
            " 15  PollinatorDiversity           1000 non-null   float64\n",
            " 16  BiodiversityHealthIndex       1000 non-null   float64\n",
            "dtypes: float64(9), int64(8)\n",
            "memory usage: 132.9 KB\n",
            "<class 'pandas.core.frame.DataFrame'>\n",
            "RangeIndex: 1000 entries, 0 to 999\n",
            "Data columns (total 17 columns):\n",
            " #   Column                        Non-Null Count  Dtype  \n",
            "---  ------                        --------------  -----  \n",
            " 0   Year                          1000 non-null   int64  \n",
            " 1   WaterQualityIndex             1000 non-null   int64  \n",
            " 2   ClimateChangeImpactScore      1000 non-null   float64\n",
            " 3   LandUseChange                 1000 non-null   float64\n",
            " 4   InvasiveSpeciesCount          1000 non-null   int64  \n",
            " 5   ConservationFunding           1000 non-null   int64  \n",
            " 6   EcoTourismImpact              1000 non-null   float64\n",
            " 7   ForestCoverChange             1000 non-null   float64\n",
            " 8   SoilQualityIndex              1000 non-null   int64  \n",
            " 9   WaterUsage                    1000 non-null   int64  \n",
            " 10  RenewableEnergyUsage          1000 non-null   int64  \n",
            " 11  CarbonEmissionLevels          1000 non-null   int64  \n",
            " 12  AgriculturalIntensity         1000 non-null   float64\n",
            " 13  HabitatConnectivity           1000 non-null   float64\n",
            " 14  SpeciesReintroductionEfforts  1000 non-null   float64\n",
            " 15  PollinatorDiversity           1000 non-null   float64\n",
            " 16  BiodiversityHealthIndex       1000 non-null   float64\n",
            "dtypes: float64(9), int64(8)\n",
            "memory usage: 132.9 KB\n",
            "None None\n"
          ]
        }
      ]
    },
    {
      "cell_type": "code",
      "source": [
        "# counting Null value\n",
        "def check_null_values(train_data):\n",
        "    \"\"\"\n",
        "    Print the count of null values for each column in a DataFrame.\n",
        "\n",
        "    This function iterates through each column in the DataFrame to check for the presence of null values.\n",
        "    If a column contains null values, it prints the column name along with the number of null values.\n",
        "\n",
        "    Parameters:\n",
        "    df (DataFrame): The pandas DataFrame to check for null values.\n",
        "\n",
        "    Returns:\n",
        "    None: This function does not return a value; it only prints information.\n",
        "    \"\"\"\n",
        "    has_nulls = False\n",
        "    for column in train_data:\n",
        "        null_count = train_data[column].isnull().sum()\n",
        "        if null_count > 0:\n",
        "            print(f'{column} has {null_count} null values')\n",
        "            has_nulls = True\n",
        "\n",
        "    if not has_nulls:\n",
        "        print('There are no null values in the train_data')\n",
        "\n",
        "# Printing null value count\n",
        "check_null_values(train_data)\n"
      ],
      "metadata": {
        "colab": {
          "base_uri": "https://localhost:8080/"
        },
        "id": "Oj-x3TJe8kyq",
        "outputId": "b4d4bb9b-f38b-4a01-bb17-b607ca23c763"
      },
      "execution_count": 32,
      "outputs": [
        {
          "output_type": "stream",
          "name": "stdout",
          "text": [
            "There are no null values in the train_data\n"
          ]
        }
      ]
    },
    {
      "cell_type": "code",
      "source": [
        "# counting Null value\n",
        "def check_null_values(test_data):\n",
        "    \"\"\"\n",
        "    Print the count of null values for each column in a DataFrame.\n",
        "\n",
        "    This function iterates through each column in the DataFrame to check for the presence of null values.\n",
        "    If a column contains null values, it prints the column name along with the number of null values.\n",
        "\n",
        "    Parameters:\n",
        "    df (DataFrame): The pandas DataFrame to check for null values.\n",
        "\n",
        "    Returns:\n",
        "    None: This function does not return a value; it only prints information.\n",
        "    \"\"\"\n",
        "    has_nulls = False\n",
        "    for column in test_data:\n",
        "        null_count = test_data[column].isnull().sum()\n",
        "        if null_count > 0:\n",
        "            print(f'{column} has {null_count} null values')\n",
        "            has_nulls = True\n",
        "\n",
        "    if not has_nulls:\n",
        "        print('There are no null values in the test_data')\n",
        "\n",
        "# Printing null value count\n",
        "check_null_values(test_data)"
      ],
      "metadata": {
        "colab": {
          "base_uri": "https://localhost:8080/"
        },
        "id": "QwPnaHuG8s1W",
        "outputId": "09bc15f3-5cbe-4266-8e6d-4ea4c4c689d3"
      },
      "execution_count": 33,
      "outputs": [
        {
          "output_type": "stream",
          "name": "stdout",
          "text": [
            "There are no null values in the test_data\n"
          ]
        }
      ]
    },
    {
      "cell_type": "code",
      "source": [
        "# counting duplicate rows\n",
        "def count_duplicate_rows(train_data):\n",
        "    \"\"\"\n",
        "    Count the number of duplicate rows in a DataFrame.\n",
        "\n",
        "    This function calculates the total number of duplicate rows in the DataFrame by calling the `duplicated` method,\n",
        "    which marks duplicates as `True`, and then sums these cases.\n",
        "\n",
        "    Parameters:\n",
        "    test_data (pandas.DataFrame): The DataFrame to check for duplicates.\n",
        "\n",
        "    Returns:\n",
        "    int: The count of duplicate rows.\n",
        "    \"\"\"\n",
        "    duplicate_count = train_data.duplicated().sum()\n",
        "    return duplicate_count\n",
        "\n",
        "# printing duplicate rows count\n",
        "duplicate_count = count_duplicate_rows(train_data)\n",
        "print(f\"The number of duplicate rows in the train_data: {duplicate_count}\")"
      ],
      "metadata": {
        "colab": {
          "base_uri": "https://localhost:8080/"
        },
        "id": "WHtSx5iS8x9X",
        "outputId": "46abbc10-efb0-4b24-fb48-4ea50bbf7b68"
      },
      "execution_count": 34,
      "outputs": [
        {
          "output_type": "stream",
          "name": "stdout",
          "text": [
            "The number of duplicate rows in the train_data: 0\n"
          ]
        }
      ]
    },
    {
      "cell_type": "code",
      "source": [
        "# counting duplicate rows\n",
        "def count_duplicate_rows(test_data):\n",
        "    \"\"\"\n",
        "    Count the number of duplicate rows in a DataFrame.\n",
        "\n",
        "    This function calculates the total number of duplicate rows in the DataFrame by calling the `duplicated` method,\n",
        "    which marks duplicates as `True`, and then sums these cases.\n",
        "\n",
        "    Parameters:\n",
        "    test_data (pandas.DataFrame): The DataFrame to check for duplicates.\n",
        "\n",
        "    Returns:\n",
        "    int: The count of duplicate rows.\n",
        "    \"\"\"\n",
        "    duplicate_count = test_data.duplicated().sum()\n",
        "    return duplicate_count\n",
        "\n",
        "# printing duplicate rows count\n",
        "duplicate_count = count_duplicate_rows(test_data)\n",
        "print(f\"The number of duplicate rows in the test_data: {duplicate_count}\")"
      ],
      "metadata": {
        "colab": {
          "base_uri": "https://localhost:8080/"
        },
        "id": "4jvV3ljx8zFy",
        "outputId": "5b1db674-d3f1-444d-b714-2917630ffc7d"
      },
      "execution_count": 35,
      "outputs": [
        {
          "output_type": "stream",
          "name": "stdout",
          "text": [
            "The number of duplicate rows in the test_data: 0\n"
          ]
        }
      ]
    },
    {
      "cell_type": "code",
      "execution_count": 31,
      "metadata": {
        "colab": {
          "base_uri": "https://localhost:8080/"
        },
        "id": "gdx8YTqR4l0C",
        "outputId": "33722ac6-8ab8-4f4f-c90f-e73c0cbf5e03"
      },
      "outputs": [
        {
          "output_type": "stream",
          "name": "stdout",
          "text": [
            "Number of duplicate rows: 0\n"
          ]
        }
      ],
      "source": [
        "# Check for duplicate rows\n",
        "duplicates = df.duplicated()\n",
        "print(\"Number of duplicate rows:\", duplicates.sum())"
      ]
    },
    {
      "cell_type": "markdown",
      "source": [
        "# Pre-Processing\n"
      ],
      "metadata": {
        "id": "tnoHjiV39NAh"
      }
    },
    {
      "cell_type": "code",
      "source": [
        "# Download NLTK data\n",
        "!pip install nltk\n",
        "import nltk # import the nltk library\n",
        "nltk.download('punkt')\n",
        "nltk.download('stopwords')\n",
        "nltk.download('wordnet')"
      ],
      "metadata": {
        "colab": {
          "base_uri": "https://localhost:8080/"
        },
        "id": "bXkm-ex_9JH4",
        "outputId": "77d6ddf6-122b-4226-c6aa-0e5941ed48a1"
      },
      "execution_count": 38,
      "outputs": [
        {
          "output_type": "stream",
          "name": "stdout",
          "text": [
            "Requirement already satisfied: nltk in /usr/local/lib/python3.10/dist-packages (3.8.1)\n",
            "Requirement already satisfied: click in /usr/local/lib/python3.10/dist-packages (from nltk) (8.1.7)\n",
            "Requirement already satisfied: joblib in /usr/local/lib/python3.10/dist-packages (from nltk) (1.4.2)\n",
            "Requirement already satisfied: regex>=2021.8.3 in /usr/local/lib/python3.10/dist-packages (from nltk) (2024.9.11)\n",
            "Requirement already satisfied: tqdm in /usr/local/lib/python3.10/dist-packages (from nltk) (4.66.5)\n"
          ]
        },
        {
          "output_type": "stream",
          "name": "stderr",
          "text": [
            "[nltk_data] Downloading package punkt to /root/nltk_data...\n",
            "[nltk_data]   Unzipping tokenizers/punkt.zip.\n",
            "[nltk_data] Downloading package stopwords to /root/nltk_data...\n",
            "[nltk_data]   Unzipping corpora/stopwords.zip.\n",
            "[nltk_data] Downloading package wordnet to /root/nltk_data...\n"
          ]
        },
        {
          "output_type": "execute_result",
          "data": {
            "text/plain": [
              "True"
            ]
          },
          "metadata": {},
          "execution_count": 38
        }
      ]
    },
    {
      "cell_type": "code",
      "source": [
        "# Tokenize text using TreebankWordTokenizer\n",
        "from nltk.tokenize import TreebankWordTokenizer # import the TreebankWordTokenizer class from nltk.tokenize\n",
        "\n",
        "tokenizer = TreebankWordTokenizer()\n",
        "\n",
        "# Check for the correct column name and replace 'text' if necessary\n",
        "# Ensure the column containing the text data is correctly referenced\n",
        "train_data[\"correct_column_name\"] = train_data[\"correct_column_name\"].apply(tokenizer.tokenize)\n",
        "\n",
        "# Display the tokenized text\n",
        "print(train_data[\"correct_column_name\"])"
      ],
      "metadata": {
        "colab": {
          "base_uri": "https://localhost:8080/",
          "height": 578
        },
        "id": "UL7yhCtqDITF",
        "outputId": "2c394057-6ecc-4a97-c5ed-087dab9b0431"
      },
      "execution_count": 46,
      "outputs": [
        {
          "output_type": "error",
          "ename": "KeyError",
          "evalue": "'correct_column_name'",
          "traceback": [
            "\u001b[0;31m---------------------------------------------------------------------------\u001b[0m",
            "\u001b[0;31mKeyError\u001b[0m                                  Traceback (most recent call last)",
            "\u001b[0;32m/usr/local/lib/python3.10/dist-packages/pandas/core/indexes/base.py\u001b[0m in \u001b[0;36mget_loc\u001b[0;34m(self, key)\u001b[0m\n\u001b[1;32m   3790\u001b[0m         \u001b[0;32mtry\u001b[0m\u001b[0;34m:\u001b[0m\u001b[0;34m\u001b[0m\u001b[0;34m\u001b[0m\u001b[0m\n\u001b[0;32m-> 3791\u001b[0;31m             \u001b[0;32mreturn\u001b[0m \u001b[0mself\u001b[0m\u001b[0;34m.\u001b[0m\u001b[0m_engine\u001b[0m\u001b[0;34m.\u001b[0m\u001b[0mget_loc\u001b[0m\u001b[0;34m(\u001b[0m\u001b[0mcasted_key\u001b[0m\u001b[0;34m)\u001b[0m\u001b[0;34m\u001b[0m\u001b[0;34m\u001b[0m\u001b[0m\n\u001b[0m\u001b[1;32m   3792\u001b[0m         \u001b[0;32mexcept\u001b[0m \u001b[0mKeyError\u001b[0m \u001b[0;32mas\u001b[0m \u001b[0merr\u001b[0m\u001b[0;34m:\u001b[0m\u001b[0;34m\u001b[0m\u001b[0;34m\u001b[0m\u001b[0m\n",
            "\u001b[0;32mindex.pyx\u001b[0m in \u001b[0;36mpandas._libs.index.IndexEngine.get_loc\u001b[0;34m()\u001b[0m\n",
            "\u001b[0;32mindex.pyx\u001b[0m in \u001b[0;36mpandas._libs.index.IndexEngine.get_loc\u001b[0;34m()\u001b[0m\n",
            "\u001b[0;32mpandas/_libs/hashtable_class_helper.pxi\u001b[0m in \u001b[0;36mpandas._libs.hashtable.PyObjectHashTable.get_item\u001b[0;34m()\u001b[0m\n",
            "\u001b[0;32mpandas/_libs/hashtable_class_helper.pxi\u001b[0m in \u001b[0;36mpandas._libs.hashtable.PyObjectHashTable.get_item\u001b[0;34m()\u001b[0m\n",
            "\u001b[0;31mKeyError\u001b[0m: 'correct_column_name'",
            "\nThe above exception was the direct cause of the following exception:\n",
            "\u001b[0;31mKeyError\u001b[0m                                  Traceback (most recent call last)",
            "\u001b[0;32m<ipython-input-46-1cfb0347acd5>\u001b[0m in \u001b[0;36m<cell line: 8>\u001b[0;34m()\u001b[0m\n\u001b[1;32m      6\u001b[0m \u001b[0;31m# Check for the correct column name and replace 'text' if necessary\u001b[0m\u001b[0;34m\u001b[0m\u001b[0;34m\u001b[0m\u001b[0m\n\u001b[1;32m      7\u001b[0m \u001b[0;31m# Ensure the column containing the text data is correctly referenced\u001b[0m\u001b[0;34m\u001b[0m\u001b[0;34m\u001b[0m\u001b[0m\n\u001b[0;32m----> 8\u001b[0;31m \u001b[0mtrain_data\u001b[0m\u001b[0;34m[\u001b[0m\u001b[0;34m\"correct_column_name\"\u001b[0m\u001b[0;34m]\u001b[0m \u001b[0;34m=\u001b[0m \u001b[0mtrain_data\u001b[0m\u001b[0;34m[\u001b[0m\u001b[0;34m\"correct_column_name\"\u001b[0m\u001b[0;34m]\u001b[0m\u001b[0;34m.\u001b[0m\u001b[0mapply\u001b[0m\u001b[0;34m(\u001b[0m\u001b[0mtokenizer\u001b[0m\u001b[0;34m.\u001b[0m\u001b[0mtokenize\u001b[0m\u001b[0;34m)\u001b[0m\u001b[0;34m\u001b[0m\u001b[0;34m\u001b[0m\u001b[0m\n\u001b[0m\u001b[1;32m      9\u001b[0m \u001b[0;34m\u001b[0m\u001b[0m\n\u001b[1;32m     10\u001b[0m \u001b[0;31m# Display the tokenized text\u001b[0m\u001b[0;34m\u001b[0m\u001b[0;34m\u001b[0m\u001b[0m\n",
            "\u001b[0;32m/usr/local/lib/python3.10/dist-packages/pandas/core/frame.py\u001b[0m in \u001b[0;36m__getitem__\u001b[0;34m(self, key)\u001b[0m\n\u001b[1;32m   3891\u001b[0m             \u001b[0;32mif\u001b[0m \u001b[0mself\u001b[0m\u001b[0;34m.\u001b[0m\u001b[0mcolumns\u001b[0m\u001b[0;34m.\u001b[0m\u001b[0mnlevels\u001b[0m \u001b[0;34m>\u001b[0m \u001b[0;36m1\u001b[0m\u001b[0;34m:\u001b[0m\u001b[0;34m\u001b[0m\u001b[0;34m\u001b[0m\u001b[0m\n\u001b[1;32m   3892\u001b[0m                 \u001b[0;32mreturn\u001b[0m \u001b[0mself\u001b[0m\u001b[0;34m.\u001b[0m\u001b[0m_getitem_multilevel\u001b[0m\u001b[0;34m(\u001b[0m\u001b[0mkey\u001b[0m\u001b[0;34m)\u001b[0m\u001b[0;34m\u001b[0m\u001b[0;34m\u001b[0m\u001b[0m\n\u001b[0;32m-> 3893\u001b[0;31m             \u001b[0mindexer\u001b[0m \u001b[0;34m=\u001b[0m \u001b[0mself\u001b[0m\u001b[0;34m.\u001b[0m\u001b[0mcolumns\u001b[0m\u001b[0;34m.\u001b[0m\u001b[0mget_loc\u001b[0m\u001b[0;34m(\u001b[0m\u001b[0mkey\u001b[0m\u001b[0;34m)\u001b[0m\u001b[0;34m\u001b[0m\u001b[0;34m\u001b[0m\u001b[0m\n\u001b[0m\u001b[1;32m   3894\u001b[0m             \u001b[0;32mif\u001b[0m \u001b[0mis_integer\u001b[0m\u001b[0;34m(\u001b[0m\u001b[0mindexer\u001b[0m\u001b[0;34m)\u001b[0m\u001b[0;34m:\u001b[0m\u001b[0;34m\u001b[0m\u001b[0;34m\u001b[0m\u001b[0m\n\u001b[1;32m   3895\u001b[0m                 \u001b[0mindexer\u001b[0m \u001b[0;34m=\u001b[0m \u001b[0;34m[\u001b[0m\u001b[0mindexer\u001b[0m\u001b[0;34m]\u001b[0m\u001b[0;34m\u001b[0m\u001b[0;34m\u001b[0m\u001b[0m\n",
            "\u001b[0;32m/usr/local/lib/python3.10/dist-packages/pandas/core/indexes/base.py\u001b[0m in \u001b[0;36mget_loc\u001b[0;34m(self, key)\u001b[0m\n\u001b[1;32m   3796\u001b[0m             ):\n\u001b[1;32m   3797\u001b[0m                 \u001b[0;32mraise\u001b[0m \u001b[0mInvalidIndexError\u001b[0m\u001b[0;34m(\u001b[0m\u001b[0mkey\u001b[0m\u001b[0;34m)\u001b[0m\u001b[0;34m\u001b[0m\u001b[0;34m\u001b[0m\u001b[0m\n\u001b[0;32m-> 3798\u001b[0;31m             \u001b[0;32mraise\u001b[0m \u001b[0mKeyError\u001b[0m\u001b[0;34m(\u001b[0m\u001b[0mkey\u001b[0m\u001b[0;34m)\u001b[0m \u001b[0;32mfrom\u001b[0m \u001b[0merr\u001b[0m\u001b[0;34m\u001b[0m\u001b[0;34m\u001b[0m\u001b[0m\n\u001b[0m\u001b[1;32m   3799\u001b[0m         \u001b[0;32mexcept\u001b[0m \u001b[0mTypeError\u001b[0m\u001b[0;34m:\u001b[0m\u001b[0;34m\u001b[0m\u001b[0;34m\u001b[0m\u001b[0m\n\u001b[1;32m   3800\u001b[0m             \u001b[0;31m# If we have a listlike key, _check_indexing_error will raise\u001b[0m\u001b[0;34m\u001b[0m\u001b[0;34m\u001b[0m\u001b[0m\n",
            "\u001b[0;31mKeyError\u001b[0m: 'correct_column_name'"
          ]
        }
      ]
    },
    {
      "cell_type": "code",
      "source": [
        "# Tokenize text using TreebankWordTokenizer\n",
        "from nltk.tokenize import TreebankWordTokenizer\n",
        "\n",
        "tokenizer = TreebankWordTokenizer()\n",
        "\n",
        "# Replace 'actual_column_name' with the correct column name from your DataFrame\n",
        "train_data[\"tokenized_text\"] = train_data[\"actual_column_name\"].apply(tokenizer.tokenize)\n",
        "\n",
        "# Display the tokenized text\n",
        "print(train_data[\"tokenized_text\"])"
      ],
      "metadata": {
        "colab": {
          "base_uri": "https://localhost:8080/",
          "height": 578
        },
        "id": "kYsqjuGBEJ4u",
        "outputId": "30b871ca-bc2c-4193-a88a-99afc4610bcf"
      },
      "execution_count": 47,
      "outputs": [
        {
          "output_type": "error",
          "ename": "KeyError",
          "evalue": "'actual_column_name'",
          "traceback": [
            "\u001b[0;31m---------------------------------------------------------------------------\u001b[0m",
            "\u001b[0;31mKeyError\u001b[0m                                  Traceback (most recent call last)",
            "\u001b[0;32m/usr/local/lib/python3.10/dist-packages/pandas/core/indexes/base.py\u001b[0m in \u001b[0;36mget_loc\u001b[0;34m(self, key)\u001b[0m\n\u001b[1;32m   3790\u001b[0m         \u001b[0;32mtry\u001b[0m\u001b[0;34m:\u001b[0m\u001b[0;34m\u001b[0m\u001b[0;34m\u001b[0m\u001b[0m\n\u001b[0;32m-> 3791\u001b[0;31m             \u001b[0;32mreturn\u001b[0m \u001b[0mself\u001b[0m\u001b[0;34m.\u001b[0m\u001b[0m_engine\u001b[0m\u001b[0;34m.\u001b[0m\u001b[0mget_loc\u001b[0m\u001b[0;34m(\u001b[0m\u001b[0mcasted_key\u001b[0m\u001b[0;34m)\u001b[0m\u001b[0;34m\u001b[0m\u001b[0;34m\u001b[0m\u001b[0m\n\u001b[0m\u001b[1;32m   3792\u001b[0m         \u001b[0;32mexcept\u001b[0m \u001b[0mKeyError\u001b[0m \u001b[0;32mas\u001b[0m \u001b[0merr\u001b[0m\u001b[0;34m:\u001b[0m\u001b[0;34m\u001b[0m\u001b[0;34m\u001b[0m\u001b[0m\n",
            "\u001b[0;32mindex.pyx\u001b[0m in \u001b[0;36mpandas._libs.index.IndexEngine.get_loc\u001b[0;34m()\u001b[0m\n",
            "\u001b[0;32mindex.pyx\u001b[0m in \u001b[0;36mpandas._libs.index.IndexEngine.get_loc\u001b[0;34m()\u001b[0m\n",
            "\u001b[0;32mpandas/_libs/hashtable_class_helper.pxi\u001b[0m in \u001b[0;36mpandas._libs.hashtable.PyObjectHashTable.get_item\u001b[0;34m()\u001b[0m\n",
            "\u001b[0;32mpandas/_libs/hashtable_class_helper.pxi\u001b[0m in \u001b[0;36mpandas._libs.hashtable.PyObjectHashTable.get_item\u001b[0;34m()\u001b[0m\n",
            "\u001b[0;31mKeyError\u001b[0m: 'actual_column_name'",
            "\nThe above exception was the direct cause of the following exception:\n",
            "\u001b[0;31mKeyError\u001b[0m                                  Traceback (most recent call last)",
            "\u001b[0;32m<ipython-input-47-92c148806ba6>\u001b[0m in \u001b[0;36m<cell line: 7>\u001b[0;34m()\u001b[0m\n\u001b[1;32m      5\u001b[0m \u001b[0;34m\u001b[0m\u001b[0m\n\u001b[1;32m      6\u001b[0m \u001b[0;31m# Replace 'actual_column_name' with the correct column name from your DataFrame\u001b[0m\u001b[0;34m\u001b[0m\u001b[0;34m\u001b[0m\u001b[0m\n\u001b[0;32m----> 7\u001b[0;31m \u001b[0mtrain_data\u001b[0m\u001b[0;34m[\u001b[0m\u001b[0;34m\"tokenized_text\"\u001b[0m\u001b[0;34m]\u001b[0m \u001b[0;34m=\u001b[0m \u001b[0mtrain_data\u001b[0m\u001b[0;34m[\u001b[0m\u001b[0;34m\"actual_column_name\"\u001b[0m\u001b[0;34m]\u001b[0m\u001b[0;34m.\u001b[0m\u001b[0mapply\u001b[0m\u001b[0;34m(\u001b[0m\u001b[0mtokenizer\u001b[0m\u001b[0;34m.\u001b[0m\u001b[0mtokenize\u001b[0m\u001b[0;34m)\u001b[0m\u001b[0;34m\u001b[0m\u001b[0;34m\u001b[0m\u001b[0m\n\u001b[0m\u001b[1;32m      8\u001b[0m \u001b[0;34m\u001b[0m\u001b[0m\n\u001b[1;32m      9\u001b[0m \u001b[0;31m# Display the tokenized text\u001b[0m\u001b[0;34m\u001b[0m\u001b[0;34m\u001b[0m\u001b[0m\n",
            "\u001b[0;32m/usr/local/lib/python3.10/dist-packages/pandas/core/frame.py\u001b[0m in \u001b[0;36m__getitem__\u001b[0;34m(self, key)\u001b[0m\n\u001b[1;32m   3891\u001b[0m             \u001b[0;32mif\u001b[0m \u001b[0mself\u001b[0m\u001b[0;34m.\u001b[0m\u001b[0mcolumns\u001b[0m\u001b[0;34m.\u001b[0m\u001b[0mnlevels\u001b[0m \u001b[0;34m>\u001b[0m \u001b[0;36m1\u001b[0m\u001b[0;34m:\u001b[0m\u001b[0;34m\u001b[0m\u001b[0;34m\u001b[0m\u001b[0m\n\u001b[1;32m   3892\u001b[0m                 \u001b[0;32mreturn\u001b[0m \u001b[0mself\u001b[0m\u001b[0;34m.\u001b[0m\u001b[0m_getitem_multilevel\u001b[0m\u001b[0;34m(\u001b[0m\u001b[0mkey\u001b[0m\u001b[0;34m)\u001b[0m\u001b[0;34m\u001b[0m\u001b[0;34m\u001b[0m\u001b[0m\n\u001b[0;32m-> 3893\u001b[0;31m             \u001b[0mindexer\u001b[0m \u001b[0;34m=\u001b[0m \u001b[0mself\u001b[0m\u001b[0;34m.\u001b[0m\u001b[0mcolumns\u001b[0m\u001b[0;34m.\u001b[0m\u001b[0mget_loc\u001b[0m\u001b[0;34m(\u001b[0m\u001b[0mkey\u001b[0m\u001b[0;34m)\u001b[0m\u001b[0;34m\u001b[0m\u001b[0;34m\u001b[0m\u001b[0m\n\u001b[0m\u001b[1;32m   3894\u001b[0m             \u001b[0;32mif\u001b[0m \u001b[0mis_integer\u001b[0m\u001b[0;34m(\u001b[0m\u001b[0mindexer\u001b[0m\u001b[0;34m)\u001b[0m\u001b[0;34m:\u001b[0m\u001b[0;34m\u001b[0m\u001b[0;34m\u001b[0m\u001b[0m\n\u001b[1;32m   3895\u001b[0m                 \u001b[0mindexer\u001b[0m \u001b[0;34m=\u001b[0m \u001b[0;34m[\u001b[0m\u001b[0mindexer\u001b[0m\u001b[0;34m]\u001b[0m\u001b[0;34m\u001b[0m\u001b[0;34m\u001b[0m\u001b[0m\n",
            "\u001b[0;32m/usr/local/lib/python3.10/dist-packages/pandas/core/indexes/base.py\u001b[0m in \u001b[0;36mget_loc\u001b[0;34m(self, key)\u001b[0m\n\u001b[1;32m   3796\u001b[0m             ):\n\u001b[1;32m   3797\u001b[0m                 \u001b[0;32mraise\u001b[0m \u001b[0mInvalidIndexError\u001b[0m\u001b[0;34m(\u001b[0m\u001b[0mkey\u001b[0m\u001b[0;34m)\u001b[0m\u001b[0;34m\u001b[0m\u001b[0;34m\u001b[0m\u001b[0m\n\u001b[0;32m-> 3798\u001b[0;31m             \u001b[0;32mraise\u001b[0m \u001b[0mKeyError\u001b[0m\u001b[0;34m(\u001b[0m\u001b[0mkey\u001b[0m\u001b[0;34m)\u001b[0m \u001b[0;32mfrom\u001b[0m \u001b[0merr\u001b[0m\u001b[0;34m\u001b[0m\u001b[0;34m\u001b[0m\u001b[0m\n\u001b[0m\u001b[1;32m   3799\u001b[0m         \u001b[0;32mexcept\u001b[0m \u001b[0mTypeError\u001b[0m\u001b[0;34m:\u001b[0m\u001b[0;34m\u001b[0m\u001b[0;34m\u001b[0m\u001b[0m\n\u001b[1;32m   3800\u001b[0m             \u001b[0;31m# If we have a listlike key, _check_indexing_error will raise\u001b[0m\u001b[0;34m\u001b[0m\u001b[0;34m\u001b[0m\u001b[0m\n",
            "\u001b[0;31mKeyError\u001b[0m: 'actual_column_name'"
          ]
        }
      ]
    }
  ],
  "metadata": {
    "kernelspec": {
      "display_name": "Tevin",
      "language": "python",
      "name": "python3"
    },
    "language_info": {
      "codemirror_mode": {
        "name": "ipython",
        "version": 3
      },
      "file_extension": ".py",
      "mimetype": "text/x-python",
      "name": "python",
      "nbconvert_exporter": "python",
      "pygments_lexer": "ipython3",
      "version": "3.12.5"
    },
    "colab": {
      "provenance": [],
      "include_colab_link": true
    }
  },
  "nbformat": 4,
  "nbformat_minor": 0
}